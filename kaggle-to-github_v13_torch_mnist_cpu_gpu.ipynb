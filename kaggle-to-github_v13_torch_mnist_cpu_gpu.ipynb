{
 "cells": [
  {
   "cell_type": "markdown",
   "id": "80dfa32e",
   "metadata": {
    "papermill": {
     "duration": 0.005101,
     "end_time": "2022-03-31T05:41:56.996760",
     "exception": false,
     "start_time": "2022-03-31T05:41:56.991659",
     "status": "completed"
    },
    "tags": []
   },
   "source": [
    "# GPU"
   ]
  },
  {
   "cell_type": "code",
   "execution_count": 1,
   "id": "ab10dd0d",
   "metadata": {
    "execution": {
     "iopub.execute_input": "2022-03-31T05:41:57.020460Z",
     "iopub.status.busy": "2022-03-31T05:41:57.014831Z",
     "iopub.status.idle": "2022-03-31T05:50:16.138329Z",
     "shell.execute_reply": "2022-03-31T05:50:16.138979Z"
    },
    "papermill": {
     "duration": 499.136832,
     "end_time": "2022-03-31T05:50:16.139294",
     "exception": false,
     "start_time": "2022-03-31T05:41:57.002462",
     "status": "completed"
    },
    "tags": []
   },
   "outputs": [
    {
     "name": "stdout",
     "output_type": "stream",
     "text": [
      "NeuralNetwork(\n",
      "  (flatten): Flatten(start_dim=1, end_dim=-1)\n",
      "  (linear_relu_stack): Sequential(\n",
      "    (0): Linear(in_features=784, out_features=512, bias=True)\n",
      "    (1): ReLU()\n",
      "    (2): Linear(in_features=512, out_features=512, bias=True)\n",
      "    (3): ReLU()\n",
      "    (4): Linear(in_features=512, out_features=10, bias=True)\n",
      "    (5): ReLU()\n",
      "  )\n",
      ")\n",
      "2022-03-31 05:42:24.206603\n"
     ]
    },
    {
     "name": "stderr",
     "output_type": "stream",
     "text": [
      "Epoch 1: 100%|██████████| 5000/5000 [02:24<00:00, 34.63it/s]\n"
     ]
    },
    {
     "name": "stdout",
     "output_type": "stream",
     "text": [
      "Accuracy: 86.3%, Avg loss: 0.399077 \n",
      "\n"
     ]
    },
    {
     "name": "stderr",
     "output_type": "stream",
     "text": [
      "Epoch 2: 100%|██████████| 5000/5000 [01:01<00:00, 80.86it/s]\n"
     ]
    },
    {
     "name": "stdout",
     "output_type": "stream",
     "text": [
      "Accuracy: 87.7%, Avg loss: 0.337265 \n",
      "\n"
     ]
    },
    {
     "name": "stderr",
     "output_type": "stream",
     "text": [
      "Epoch 3: 100%|██████████| 5000/5000 [01:03<00:00, 78.65it/s]\n"
     ]
    },
    {
     "name": "stdout",
     "output_type": "stream",
     "text": [
      "Accuracy: 88.0%, Avg loss: 0.314467 \n",
      "\n"
     ]
    },
    {
     "name": "stderr",
     "output_type": "stream",
     "text": [
      "Epoch 4: 100%|██████████| 5000/5000 [01:04<00:00, 78.01it/s]\n"
     ]
    },
    {
     "name": "stdout",
     "output_type": "stream",
     "text": [
      "Accuracy: 88.3%, Avg loss: 0.309591 \n",
      "\n"
     ]
    },
    {
     "name": "stderr",
     "output_type": "stream",
     "text": [
      "Epoch 5: 100%|██████████| 5000/5000 [01:02<00:00, 79.58it/s]\n"
     ]
    },
    {
     "name": "stdout",
     "output_type": "stream",
     "text": [
      "Accuracy: 88.4%, Avg loss: 0.305836 \n",
      "\n",
      "Done!\n",
      "2022-03-31 05:50:14.979512\n",
      "0:07:50.772909\n"
     ]
    }
   ],
   "source": [
    "import datetime\n",
    "import tqdm\n",
    "import torch\n",
    "import torchvision\n",
    "device = torch.device(\"cuda:0\")\n",
    "mnist = torchvision.datasets.ImageFolder('../input/wwkiyyx-mnist-bmp/mnist/train', transform=torchvision.transforms.Compose([\n",
    "                    torchvision.transforms.ToTensor(), \\\n",
    "                    torchvision.transforms.Grayscale(1), \\\n",
    "                    torchvision.transforms.Normalize((0.1307,), (0.3081,))]))\n",
    "train_dataset, test_dataset = torch.utils.data.random_split(mnist, [50000, 10000])\n",
    "train_dataloader = torch.utils.data.DataLoader(train_dataset, batch_size=10, shuffle=True)\n",
    "test_dataloader = torch.utils.data.DataLoader(test_dataset, batch_size=10, shuffle=True)\n",
    "class NeuralNetwork(torch.nn.Module):\n",
    "    def __init__(self):\n",
    "        super(NeuralNetwork, self).__init__()\n",
    "        self.flatten = torch.nn.Flatten()\n",
    "        self.linear_relu_stack = torch.nn.Sequential(\n",
    "            torch.nn.Linear(28*28, 512),\n",
    "            torch.nn.ReLU(),\n",
    "            torch.nn.Linear(512, 512),\n",
    "            torch.nn.ReLU(),\n",
    "            torch.nn.Linear(512, 10),\n",
    "            torch.nn.ReLU()\n",
    "        )\n",
    "    def forward(self, x):\n",
    "        x = self.flatten(x)\n",
    "        logits = self.linear_relu_stack(x)\n",
    "        return logits\n",
    "model = NeuralNetwork()\n",
    "model.to(device)\n",
    "print(model)\n",
    "loss_fn = torch.nn.CrossEntropyLoss()\n",
    "optimizer = torch.optim.SGD(model.parameters(), lr=0.01)\n",
    "epochs = 5\n",
    "start = datetime.datetime.now()\n",
    "print(start)\n",
    "for t in range(epochs):\n",
    "    train_size = len(train_dataloader.dataset)\n",
    "    for batch, (X, y) in enumerate(tqdm.tqdm(train_dataloader, desc = f\"Epoch {t+1}\")):\n",
    "        X = X.to(device)\n",
    "        y = y.to(device)\n",
    "        pred = model(X)\n",
    "        loss = loss_fn(pred, y)\n",
    "        optimizer.zero_grad()\n",
    "        loss.backward()\n",
    "        optimizer.step()\n",
    "    test_size = len(test_dataloader.dataset)\n",
    "    num_batches = len(test_dataloader)\n",
    "    model.eval()\n",
    "    test_loss, correct = 0, 0\n",
    "    with torch.no_grad():\n",
    "        for X, y in test_dataloader:\n",
    "            X = X.to(device)\n",
    "            y = y.to(device)\n",
    "            pred = model(X)\n",
    "            test_loss += loss_fn(pred, y).item()\n",
    "            correct += (pred.argmax(1) == y).type(torch.float).sum().item()\n",
    "    test_loss /= num_batches\n",
    "    correct /= test_size\n",
    "    print(f\"Accuracy: {(100*correct):>0.1f}%, Avg loss: {test_loss:>8f} \\n\")\n",
    "print(\"Done!\")\n",
    "end = datetime.datetime.now()\n",
    "print(end)\n",
    "print(end-start)"
   ]
  },
  {
   "cell_type": "markdown",
   "id": "677fbbd0",
   "metadata": {
    "papermill": {
     "duration": 1.10583,
     "end_time": "2022-03-31T05:50:18.364311",
     "exception": false,
     "start_time": "2022-03-31T05:50:17.258481",
     "status": "completed"
    },
    "tags": []
   },
   "source": [
    "# CPU"
   ]
  },
  {
   "cell_type": "code",
   "execution_count": 2,
   "id": "eb2a249d",
   "metadata": {
    "execution": {
     "iopub.execute_input": "2022-03-31T05:50:20.704832Z",
     "iopub.status.busy": "2022-03-31T05:50:20.704246Z",
     "iopub.status.idle": "2022-03-31T05:57:04.409220Z",
     "shell.execute_reply": "2022-03-31T05:57:04.409924Z",
     "shell.execute_reply.started": "2022-03-31T05:31:17.658554Z"
    },
    "papermill": {
     "duration": 404.923429,
     "end_time": "2022-03-31T05:57:04.410131",
     "exception": false,
     "start_time": "2022-03-31T05:50:19.486702",
     "status": "completed"
    },
    "tags": []
   },
   "outputs": [
    {
     "name": "stdout",
     "output_type": "stream",
     "text": [
      "NeuralNetwork(\n",
      "  (flatten): Flatten(start_dim=1, end_dim=-1)\n",
      "  (linear_relu_stack): Sequential(\n",
      "    (0): Linear(in_features=784, out_features=512, bias=True)\n",
      "    (1): ReLU()\n",
      "    (2): Linear(in_features=512, out_features=512, bias=True)\n",
      "    (3): ReLU()\n",
      "    (4): Linear(in_features=512, out_features=10, bias=True)\n",
      "    (5): ReLU()\n",
      "  )\n",
      ")\n",
      "2022-03-31 05:50:25.432258\n"
     ]
    },
    {
     "name": "stderr",
     "output_type": "stream",
     "text": [
      "Epoch 1: 100%|██████████| 5000/5000 [01:06<00:00, 74.81it/s]\n"
     ]
    },
    {
     "name": "stdout",
     "output_type": "stream",
     "text": [
      "Accuracy: 94.3%, Avg loss: 0.206985 \n",
      "\n"
     ]
    },
    {
     "name": "stderr",
     "output_type": "stream",
     "text": [
      "Epoch 2: 100%|██████████| 5000/5000 [01:09<00:00, 72.09it/s]\n"
     ]
    },
    {
     "name": "stdout",
     "output_type": "stream",
     "text": [
      "Accuracy: 96.4%, Avg loss: 0.125487 \n",
      "\n"
     ]
    },
    {
     "name": "stderr",
     "output_type": "stream",
     "text": [
      "Epoch 3: 100%|██████████| 5000/5000 [01:08<00:00, 73.22it/s]\n"
     ]
    },
    {
     "name": "stdout",
     "output_type": "stream",
     "text": [
      "Accuracy: 97.1%, Avg loss: 0.100005 \n",
      "\n"
     ]
    },
    {
     "name": "stderr",
     "output_type": "stream",
     "text": [
      "Epoch 4: 100%|██████████| 5000/5000 [01:08<00:00, 73.32it/s]\n"
     ]
    },
    {
     "name": "stdout",
     "output_type": "stream",
     "text": [
      "Accuracy: 97.5%, Avg loss: 0.085690 \n",
      "\n"
     ]
    },
    {
     "name": "stderr",
     "output_type": "stream",
     "text": [
      "Epoch 5: 100%|██████████| 5000/5000 [01:07<00:00, 73.87it/s]\n"
     ]
    },
    {
     "name": "stdout",
     "output_type": "stream",
     "text": [
      "Accuracy: 97.6%, Avg loss: 0.080506 \n",
      "\n",
      "Done!\n",
      "2022-03-31 05:57:02.313968\n",
      "0:06:36.881710\n"
     ]
    }
   ],
   "source": [
    "import datetime\n",
    "import tqdm\n",
    "import torch\n",
    "import torchvision\n",
    "mnist = torchvision.datasets.ImageFolder('../input/wwkiyyx-mnist-bmp/mnist/train', transform=torchvision.transforms.Compose([\n",
    "                    torchvision.transforms.ToTensor(), \\\n",
    "                    torchvision.transforms.Grayscale(1), \\\n",
    "                    torchvision.transforms.Normalize((0.1307,), (0.3081,))]))\n",
    "train_dataset, test_dataset = torch.utils.data.random_split(mnist, [50000, 10000])\n",
    "train_dataloader = torch.utils.data.DataLoader(train_dataset, batch_size=10, shuffle=True)\n",
    "test_dataloader = torch.utils.data.DataLoader(test_dataset, batch_size=10, shuffle=True)\n",
    "class NeuralNetwork(torch.nn.Module):\n",
    "    def __init__(self):\n",
    "        super(NeuralNetwork, self).__init__()\n",
    "        self.flatten = torch.nn.Flatten()\n",
    "        self.linear_relu_stack = torch.nn.Sequential(\n",
    "            torch.nn.Linear(28*28, 512),\n",
    "            torch.nn.ReLU(),\n",
    "            torch.nn.Linear(512, 512),\n",
    "            torch.nn.ReLU(),\n",
    "            torch.nn.Linear(512, 10),\n",
    "            torch.nn.ReLU()\n",
    "        )\n",
    "    def forward(self, x):\n",
    "        x = self.flatten(x)\n",
    "        logits = self.linear_relu_stack(x)\n",
    "        return logits\n",
    "model = NeuralNetwork()\n",
    "print(model)\n",
    "loss_fn = torch.nn.CrossEntropyLoss()\n",
    "optimizer = torch.optim.SGD(model.parameters(), lr=0.01)\n",
    "epochs = 5\n",
    "start = datetime.datetime.now()\n",
    "print(start)\n",
    "for t in range(epochs):\n",
    "    train_size = len(train_dataloader.dataset)\n",
    "    for batch, (X, y) in enumerate(tqdm.tqdm(train_dataloader, desc = f\"Epoch {t+1}\")):\n",
    "        pred = model(X)\n",
    "        loss = loss_fn(pred, y)\n",
    "        optimizer.zero_grad()\n",
    "        loss.backward()\n",
    "        optimizer.step()\n",
    "    test_size = len(test_dataloader.dataset)\n",
    "    num_batches = len(test_dataloader)\n",
    "    model.eval()\n",
    "    test_loss, correct = 0, 0\n",
    "    with torch.no_grad():\n",
    "        for X, y in test_dataloader:\n",
    "            pred = model(X)\n",
    "            test_loss += loss_fn(pred, y).item()\n",
    "            correct += (pred.argmax(1) == y).type(torch.float).sum().item()\n",
    "    test_loss /= num_batches\n",
    "    correct /= test_size\n",
    "    print(f\"Accuracy: {(100*correct):>0.1f}%, Avg loss: {test_loss:>8f} \\n\")\n",
    "print(\"Done!\")\n",
    "end = datetime.datetime.now()\n",
    "print(end)\n",
    "print(end-start)"
   ]
  }
 ],
 "metadata": {
  "kernelspec": {
   "display_name": "Python 3",
   "language": "python",
   "name": "python3"
  },
  "language_info": {
   "codemirror_mode": {
    "name": "ipython",
    "version": 3
   },
   "file_extension": ".py",
   "mimetype": "text/x-python",
   "name": "python",
   "nbconvert_exporter": "python",
   "pygments_lexer": "ipython3",
   "version": "3.7.12"
  },
  "papermill": {
   "default_parameters": {},
   "duration": 919.074347,
   "end_time": "2022-03-31T05:57:07.599260",
   "environment_variables": {},
   "exception": null,
   "input_path": "__notebook__.ipynb",
   "output_path": "__notebook__.ipynb",
   "parameters": {},
   "start_time": "2022-03-31T05:41:48.524913",
   "version": "2.3.3"
  }
 },
 "nbformat": 4,
 "nbformat_minor": 5
}
