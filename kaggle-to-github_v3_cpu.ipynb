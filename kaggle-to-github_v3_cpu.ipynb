{
 "cells": [
  {
   "cell_type": "markdown",
   "id": "24e20de1",
   "metadata": {
    "papermill": {
     "duration": 0.012226,
     "end_time": "2022-03-30T01:41:17.772756",
     "exception": false,
     "start_time": "2022-03-30T01:41:17.760530",
     "status": "completed"
    },
    "tags": []
   },
   "source": [
    "# 操作系统"
   ]
  },
  {
   "cell_type": "code",
   "execution_count": 1,
   "id": "9380c525",
   "metadata": {
    "_cell_guid": "b1076dfc-b9ad-4769-8c92-a6c4dae69d19",
    "_uuid": "8f2839f25d086af736a60e9eeb907d3b93b6e0e5",
    "execution": {
     "iopub.execute_input": "2022-03-30T01:41:17.801483Z",
     "iopub.status.busy": "2022-03-30T01:41:17.799695Z",
     "iopub.status.idle": "2022-03-30T01:41:18.563191Z",
     "shell.execute_reply": "2022-03-30T01:41:18.562497Z",
     "shell.execute_reply.started": "2022-03-30T01:31:41.364838Z"
    },
    "papermill": {
     "duration": 0.779135,
     "end_time": "2022-03-30T01:41:18.563369",
     "exception": false,
     "start_time": "2022-03-30T01:41:17.784234",
     "status": "completed"
    },
    "tags": []
   },
   "outputs": [
    {
     "name": "stdout",
     "output_type": "stream",
     "text": [
      "Ubuntu 20.04.3 LTS \\n \\l\r\n",
      "\r\n"
     ]
    }
   ],
   "source": [
    "!cat /etc/issue"
   ]
  },
  {
   "cell_type": "code",
   "execution_count": 2,
   "id": "d09fb9ca",
   "metadata": {
    "execution": {
     "iopub.execute_input": "2022-03-30T01:41:18.596493Z",
     "iopub.status.busy": "2022-03-30T01:41:18.592736Z",
     "iopub.status.idle": "2022-03-30T01:41:19.340089Z",
     "shell.execute_reply": "2022-03-30T01:41:19.339489Z",
     "shell.execute_reply.started": "2022-03-30T01:32:16.964208Z"
    },
    "papermill": {
     "duration": 0.764499,
     "end_time": "2022-03-30T01:41:19.340229",
     "exception": false,
     "start_time": "2022-03-30T01:41:18.575730",
     "status": "completed"
    },
    "tags": []
   },
   "outputs": [
    {
     "name": "stdout",
     "output_type": "stream",
     "text": [
      "Linux 1af30888aa33 5.10.90+ #1 SMP Wed Mar 23 09:10:07 UTC 2022 x86_64 x86_64 x86_64 GNU/Linux\r\n"
     ]
    }
   ],
   "source": [
    "!uname -a"
   ]
  },
  {
   "cell_type": "markdown",
   "id": "6e4572ad",
   "metadata": {
    "papermill": {
     "duration": 0.015,
     "end_time": "2022-03-30T01:41:19.367470",
     "exception": false,
     "start_time": "2022-03-30T01:41:19.352470",
     "status": "completed"
    },
    "tags": []
   },
   "source": [
    "# CPU"
   ]
  },
  {
   "cell_type": "code",
   "execution_count": 3,
   "id": "63dc5fb5",
   "metadata": {
    "execution": {
     "iopub.execute_input": "2022-03-30T01:41:19.405844Z",
     "iopub.status.busy": "2022-03-30T01:41:19.405155Z",
     "iopub.status.idle": "2022-03-30T01:41:23.900598Z",
     "shell.execute_reply": "2022-03-30T01:41:23.900009Z",
     "shell.execute_reply.started": "2022-03-30T01:36:17.608841Z"
    },
    "papermill": {
     "duration": 4.519427,
     "end_time": "2022-03-30T01:41:23.900756",
     "exception": false,
     "start_time": "2022-03-30T01:41:19.381329",
     "status": "completed"
    },
    "tags": []
   },
   "outputs": [
    {
     "name": "stdout",
     "output_type": "stream",
     "text": [
      "cpu个数\r\n",
      "1\r\n",
      "cpu核心数\r\n",
      "cpu cores\t: 2\r\n",
      "cpu处理器数\r\n",
      "4\r\n"
     ]
    }
   ],
   "source": [
    "!echo cpu个数\n",
    "!cat /proc/cpuinfo| grep \"physical id\"| sort| uniq| wc -l\n",
    "!echo cpu核心数\n",
    "!cat /proc/cpuinfo| grep \"cpu cores\"| uniq\n",
    "!echo cpu处理器数\n",
    "!cat /proc/cpuinfo| grep \"processor\"| wc -l"
   ]
  },
  {
   "cell_type": "code",
   "execution_count": 4,
   "id": "9d07012b",
   "metadata": {
    "execution": {
     "iopub.execute_input": "2022-03-30T01:41:23.933640Z",
     "iopub.status.busy": "2022-03-30T01:41:23.932754Z",
     "iopub.status.idle": "2022-03-30T01:41:24.677116Z",
     "shell.execute_reply": "2022-03-30T01:41:24.676559Z",
     "shell.execute_reply.started": "2022-03-30T01:32:59.224961Z"
    },
    "papermill": {
     "duration": 0.762024,
     "end_time": "2022-03-30T01:41:24.677276",
     "exception": false,
     "start_time": "2022-03-30T01:41:23.915252",
     "status": "completed"
    },
    "tags": []
   },
   "outputs": [
    {
     "name": "stdout",
     "output_type": "stream",
     "text": [
      "processor\t: 0\r\n",
      "vendor_id\t: GenuineIntel\r\n",
      "cpu family\t: 6\r\n",
      "model\t\t: 79\r\n",
      "model name\t: Intel(R) Xeon(R) CPU @ 2.20GHz\r\n",
      "stepping\t: 0\r\n",
      "microcode\t: 0x1\r\n",
      "cpu MHz\t\t: 2199.998\r\n",
      "cache size\t: 56320 KB\r\n",
      "physical id\t: 0\r\n",
      "siblings\t: 4\r\n",
      "core id\t\t: 0\r\n",
      "cpu cores\t: 2\r\n",
      "apicid\t\t: 0\r\n",
      "initial apicid\t: 0\r\n",
      "fpu\t\t: yes\r\n",
      "fpu_exception\t: yes\r\n",
      "cpuid level\t: 13\r\n",
      "wp\t\t: yes\r\n",
      "flags\t\t: fpu vme de pse tsc msr pae mce cx8 apic sep mtrr pge mca cmov pat pse36 clflush mmx fxsr sse sse2 ss ht syscall nx pdpe1gb rdtscp lm constant_tsc rep_good nopl xtopology nonstop_tsc cpuid tsc_known_freq pni pclmulqdq ssse3 fma cx16 pcid sse4_1 sse4_2 x2apic movbe popcnt aes xsave avx f16c rdrand hypervisor lahf_lm abm 3dnowprefetch invpcid_single pti ssbd ibrs ibpb stibp fsgsbase tsc_adjust bmi1 hle avx2 smep bmi2 erms invpcid rtm rdseed adx smap xsaveopt arat md_clear arch_capabilities\r\n",
      "bugs\t\t: cpu_meltdown spectre_v1 spectre_v2 spec_store_bypass l1tf mds swapgs taa\r\n",
      "bogomips\t: 4399.99\r\n",
      "clflush size\t: 64\r\n",
      "cache_alignment\t: 64\r\n",
      "address sizes\t: 46 bits physical, 48 bits virtual\r\n",
      "power management:\r\n",
      "\r\n",
      "processor\t: 1\r\n",
      "vendor_id\t: GenuineIntel\r\n",
      "cpu family\t: 6\r\n",
      "model\t\t: 79\r\n",
      "model name\t: Intel(R) Xeon(R) CPU @ 2.20GHz\r\n",
      "stepping\t: 0\r\n",
      "microcode\t: 0x1\r\n",
      "cpu MHz\t\t: 2199.998\r\n",
      "cache size\t: 56320 KB\r\n",
      "physical id\t: 0\r\n",
      "siblings\t: 4\r\n",
      "core id\t\t: 1\r\n",
      "cpu cores\t: 2\r\n",
      "apicid\t\t: 2\r\n",
      "initial apicid\t: 2\r\n",
      "fpu\t\t: yes\r\n",
      "fpu_exception\t: yes\r\n",
      "cpuid level\t: 13\r\n",
      "wp\t\t: yes\r\n",
      "flags\t\t: fpu vme de pse tsc msr pae mce cx8 apic sep mtrr pge mca cmov pat pse36 clflush mmx fxsr sse sse2 ss ht syscall nx pdpe1gb rdtscp lm constant_tsc rep_good nopl xtopology nonstop_tsc cpuid tsc_known_freq pni pclmulqdq ssse3 fma cx16 pcid sse4_1 sse4_2 x2apic movbe popcnt aes xsave avx f16c rdrand hypervisor lahf_lm abm 3dnowprefetch invpcid_single pti ssbd ibrs ibpb stibp fsgsbase tsc_adjust bmi1 hle avx2 smep bmi2 erms invpcid rtm rdseed adx smap xsaveopt arat md_clear arch_capabilities\r\n",
      "bugs\t\t: cpu_meltdown spectre_v1 spectre_v2 spec_store_bypass l1tf mds swapgs taa\r\n",
      "bogomips\t: 4399.99\r\n",
      "clflush size\t: 64\r\n",
      "cache_alignment\t: 64\r\n",
      "address sizes\t: 46 bits physical, 48 bits virtual\r\n",
      "power management:\r\n",
      "\r\n",
      "processor\t: 2\r\n",
      "vendor_id\t: GenuineIntel\r\n",
      "cpu family\t: 6\r\n",
      "model\t\t: 79\r\n",
      "model name\t: Intel(R) Xeon(R) CPU @ 2.20GHz\r\n",
      "stepping\t: 0\r\n",
      "microcode\t: 0x1\r\n",
      "cpu MHz\t\t: 2199.998\r\n",
      "cache size\t: 56320 KB\r\n",
      "physical id\t: 0\r\n",
      "siblings\t: 4\r\n",
      "core id\t\t: 0\r\n",
      "cpu cores\t: 2\r\n",
      "apicid\t\t: 1\r\n",
      "initial apicid\t: 1\r\n",
      "fpu\t\t: yes\r\n",
      "fpu_exception\t: yes\r\n",
      "cpuid level\t: 13\r\n",
      "wp\t\t: yes\r\n",
      "flags\t\t: fpu vme de pse tsc msr pae mce cx8 apic sep mtrr pge mca cmov pat pse36 clflush mmx fxsr sse sse2 ss ht syscall nx pdpe1gb rdtscp lm constant_tsc rep_good nopl xtopology nonstop_tsc cpuid tsc_known_freq pni pclmulqdq ssse3 fma cx16 pcid sse4_1 sse4_2 x2apic movbe popcnt aes xsave avx f16c rdrand hypervisor lahf_lm abm 3dnowprefetch invpcid_single pti ssbd ibrs ibpb stibp fsgsbase tsc_adjust bmi1 hle avx2 smep bmi2 erms invpcid rtm rdseed adx smap xsaveopt arat md_clear arch_capabilities\r\n",
      "bugs\t\t: cpu_meltdown spectre_v1 spectre_v2 spec_store_bypass l1tf mds swapgs taa\r\n",
      "bogomips\t: 4399.99\r\n",
      "clflush size\t: 64\r\n",
      "cache_alignment\t: 64\r\n",
      "address sizes\t: 46 bits physical, 48 bits virtual\r\n",
      "power management:\r\n",
      "\r\n",
      "processor\t: 3\r\n",
      "vendor_id\t: GenuineIntel\r\n",
      "cpu family\t: 6\r\n",
      "model\t\t: 79\r\n",
      "model name\t: Intel(R) Xeon(R) CPU @ 2.20GHz\r\n",
      "stepping\t: 0\r\n",
      "microcode\t: 0x1\r\n",
      "cpu MHz\t\t: 2199.998\r\n",
      "cache size\t: 56320 KB\r\n",
      "physical id\t: 0\r\n",
      "siblings\t: 4\r\n",
      "core id\t\t: 1\r\n",
      "cpu cores\t: 2\r\n",
      "apicid\t\t: 3\r\n",
      "initial apicid\t: 3\r\n",
      "fpu\t\t: yes\r\n",
      "fpu_exception\t: yes\r\n",
      "cpuid level\t: 13\r\n",
      "wp\t\t: yes\r\n",
      "flags\t\t: fpu vme de pse tsc msr pae mce cx8 apic sep mtrr pge mca cmov pat pse36 clflush mmx fxsr sse sse2 ss ht syscall nx pdpe1gb rdtscp lm constant_tsc rep_good nopl xtopology nonstop_tsc cpuid tsc_known_freq pni pclmulqdq ssse3 fma cx16 pcid sse4_1 sse4_2 x2apic movbe popcnt aes xsave avx f16c rdrand hypervisor lahf_lm abm 3dnowprefetch invpcid_single pti ssbd ibrs ibpb stibp fsgsbase tsc_adjust bmi1 hle avx2 smep bmi2 erms invpcid rtm rdseed adx smap xsaveopt arat md_clear arch_capabilities\r\n",
      "bugs\t\t: cpu_meltdown spectre_v1 spectre_v2 spec_store_bypass l1tf mds swapgs taa\r\n",
      "bogomips\t: 4399.99\r\n",
      "clflush size\t: 64\r\n",
      "cache_alignment\t: 64\r\n",
      "address sizes\t: 46 bits physical, 48 bits virtual\r\n",
      "power management:\r\n",
      "\r\n"
     ]
    }
   ],
   "source": [
    "!cat /proc/cpuinfo"
   ]
  },
  {
   "cell_type": "markdown",
   "id": "00034027",
   "metadata": {
    "papermill": {
     "duration": 0.01481,
     "end_time": "2022-03-30T01:41:24.707165",
     "exception": false,
     "start_time": "2022-03-30T01:41:24.692355",
     "status": "completed"
    },
    "tags": []
   },
   "source": [
    "# 内存"
   ]
  },
  {
   "cell_type": "code",
   "execution_count": 5,
   "id": "3632c08a",
   "metadata": {
    "execution": {
     "iopub.execute_input": "2022-03-30T01:41:24.747822Z",
     "iopub.status.busy": "2022-03-30T01:41:24.743274Z",
     "iopub.status.idle": "2022-03-30T01:41:26.240956Z",
     "shell.execute_reply": "2022-03-30T01:41:26.240399Z",
     "shell.execute_reply.started": "2022-03-30T01:37:29.289534Z"
    },
    "papermill": {
     "duration": 1.518418,
     "end_time": "2022-03-30T01:41:26.241103",
     "exception": false,
     "start_time": "2022-03-30T01:41:24.722685",
     "status": "completed"
    },
    "tags": []
   },
   "outputs": [
    {
     "name": "stdout",
     "output_type": "stream",
     "text": [
      "              total        used        free      shared  buff/cache   available\r\n",
      "Mem:       18433324      576352    13086004         892     4770968    17551708\r\n",
      "Swap:             0           0           0\r\n",
      "              total        used        free      shared  buff/cache   available\r\n",
      "Mem:           17Gi       563Mi        12Gi       0.0Ki       4.5Gi        16Gi\r\n",
      "Swap:            0B          0B          0B\r\n"
     ]
    }
   ],
   "source": [
    "!free\n",
    "!free -h"
   ]
  },
  {
   "cell_type": "code",
   "execution_count": 6,
   "id": "f49dd4dc",
   "metadata": {
    "execution": {
     "iopub.execute_input": "2022-03-30T01:41:26.276448Z",
     "iopub.status.busy": "2022-03-30T01:41:26.275842Z",
     "iopub.status.idle": "2022-03-30T01:41:27.021066Z",
     "shell.execute_reply": "2022-03-30T01:41:27.020365Z",
     "shell.execute_reply.started": "2022-03-30T01:38:17.924148Z"
    },
    "papermill": {
     "duration": 0.764274,
     "end_time": "2022-03-30T01:41:27.021220",
     "exception": false,
     "start_time": "2022-03-30T01:41:26.256946",
     "status": "completed"
    },
    "tags": []
   },
   "outputs": [
    {
     "name": "stdout",
     "output_type": "stream",
     "text": [
      "MemTotal:       18433324 kB\r\n"
     ]
    }
   ],
   "source": [
    "!cat /proc/meminfo | grep MemTotal"
   ]
  },
  {
   "cell_type": "code",
   "execution_count": 7,
   "id": "83e3186a",
   "metadata": {
    "execution": {
     "iopub.execute_input": "2022-03-30T01:41:27.059466Z",
     "iopub.status.busy": "2022-03-30T01:41:27.058823Z",
     "iopub.status.idle": "2022-03-30T01:41:27.802322Z",
     "shell.execute_reply": "2022-03-30T01:41:27.801820Z",
     "shell.execute_reply.started": "2022-03-30T01:38:31.918716Z"
    },
    "papermill": {
     "duration": 0.764632,
     "end_time": "2022-03-30T01:41:27.802462",
     "exception": false,
     "start_time": "2022-03-30T01:41:27.037830",
     "status": "completed"
    },
    "tags": []
   },
   "outputs": [
    {
     "name": "stdout",
     "output_type": "stream",
     "text": [
      "MemTotal:       18433324 kB\r\n",
      "MemFree:        13084668 kB\r\n",
      "MemAvailable:   17550900 kB\r\n",
      "Buffers:          651400 kB\r\n",
      "Cached:          3738332 kB\r\n",
      "SwapCached:            0 kB\r\n",
      "Active:           877552 kB\r\n",
      "Inactive:        3926328 kB\r\n",
      "Active(anon):        620 kB\r\n",
      "Inactive(anon):   366556 kB\r\n",
      "Active(file):     876932 kB\r\n",
      "Inactive(file):  3559772 kB\r\n",
      "Unevictable:           0 kB\r\n",
      "Mlocked:               0 kB\r\n",
      "SwapTotal:             0 kB\r\n",
      "SwapFree:              0 kB\r\n",
      "Dirty:              1108 kB\r\n",
      "Writeback:             0 kB\r\n",
      "AnonPages:        414272 kB\r\n",
      "Mapped:           180472 kB\r\n",
      "Shmem:               892 kB\r\n",
      "KReclaimable:     381736 kB\r\n",
      "Slab:             422792 kB\r\n",
      "SReclaimable:     381736 kB\r\n",
      "SUnreclaim:        41056 kB\r\n",
      "KernelStack:        3504 kB\r\n",
      "PageTables:         3568 kB\r\n",
      "NFS_Unstable:          0 kB\r\n",
      "Bounce:                0 kB\r\n",
      "WritebackTmp:          0 kB\r\n",
      "CommitLimit:     9216660 kB\r\n",
      "Committed_AS:    1941252 kB\r\n",
      "VmallocTotal:   34359738367 kB\r\n",
      "VmallocUsed:       10688 kB\r\n",
      "VmallocChunk:          0 kB\r\n",
      "Percpu:             2432 kB\r\n",
      "HardwareCorrupted:     0 kB\r\n",
      "AnonHugePages:         0 kB\r\n",
      "ShmemHugePages:        0 kB\r\n",
      "ShmemPmdMapped:        0 kB\r\n",
      "FileHugePages:         0 kB\r\n",
      "FilePmdMapped:         0 kB\r\n",
      "CmaTotal:              0 kB\r\n",
      "CmaFree:               0 kB\r\n",
      "HugePages_Total:       0\r\n",
      "HugePages_Free:        0\r\n",
      "HugePages_Rsvd:        0\r\n",
      "HugePages_Surp:        0\r\n",
      "Hugepagesize:       2048 kB\r\n",
      "Hugetlb:               0 kB\r\n",
      "DirectMap4k:      152384 kB\r\n",
      "DirectMap2M:     7184384 kB\r\n",
      "DirectMap1G:    13631488 kB\r\n"
     ]
    }
   ],
   "source": [
    "!cat /proc/meminfo"
   ]
  },
  {
   "cell_type": "markdown",
   "id": "133ac374",
   "metadata": {
    "papermill": {
     "duration": 0.016232,
     "end_time": "2022-03-30T01:41:27.835345",
     "exception": false,
     "start_time": "2022-03-30T01:41:27.819113",
     "status": "completed"
    },
    "tags": []
   },
   "source": [
    "# 硬盘"
   ]
  },
  {
   "cell_type": "code",
   "execution_count": 8,
   "id": "b9afa1b8",
   "metadata": {
    "execution": {
     "iopub.execute_input": "2022-03-30T01:41:27.873601Z",
     "iopub.status.busy": "2022-03-30T01:41:27.872968Z",
     "iopub.status.idle": "2022-03-30T01:41:29.375306Z",
     "shell.execute_reply": "2022-03-30T01:41:29.374641Z",
     "shell.execute_reply.started": "2022-03-30T01:39:12.218668Z"
    },
    "papermill": {
     "duration": 1.524004,
     "end_time": "2022-03-30T01:41:29.375447",
     "exception": false,
     "start_time": "2022-03-30T01:41:27.851443",
     "status": "completed"
    },
    "tags": []
   },
   "outputs": [
    {
     "name": "stdout",
     "output_type": "stream",
     "text": [
      "Filesystem                                                              1K-blocks        Used   Available Use% Mounted on\r\n",
      "overlay                                                                4226502568  3453256008   773230176  82% /\r\n",
      "tmpfs                                                                       65536           0       65536   0% /dev\r\n",
      "tmpfs                                                                     9216660           0     9216660   0% /sys/fs/cgroup\r\n",
      "shm                                                                       7340032           0     7340032   0% /dev/shm\r\n",
      "/dev/loop1                                                               20511312       45136    20449792   1% /kaggle/src\r\n",
      "192.168.3.2:/data/kagglesdsdata/datasets/1410488/2336310/ciwt2wssrrzr 64424509440 35636264960 28788244480  56% /kaggle/input/wangwenkai40\r\n",
      "/dev/mapper/snap                                                       4226502568  3453256008   773230176  82% /home/jupyter\r\n",
      "tmpfs                                                                     9216660           0     9216660   0% /proc/acpi\r\n",
      "tmpfs                                                                     9216660           0     9216660   0% /proc/scsi\r\n",
      "tmpfs                                                                     9216660           0     9216660   0% /sys/firmware\r\n",
      "Filesystem                                                             Size  Used Avail Use% Mounted on\r\n",
      "overlay                                                                4.0T  3.3T  738G  82% /\r\n",
      "tmpfs                                                                   64M     0   64M   0% /dev\r\n",
      "tmpfs                                                                  8.8G     0  8.8G   0% /sys/fs/cgroup\r\n",
      "shm                                                                    7.0G     0  7.0G   0% /dev/shm\r\n",
      "/dev/loop1                                                              20G   45M   20G   1% /kaggle/src\r\n",
      "192.168.3.2:/data/kagglesdsdata/datasets/1410488/2336310/ciwt2wssrrzr   60T   34T   27T  56% /kaggle/input/wangwenkai40\r\n",
      "/dev/mapper/snap                                                       4.0T  3.3T  738G  82% /home/jupyter\r\n",
      "tmpfs                                                                  8.8G     0  8.8G   0% /proc/acpi\r\n",
      "tmpfs                                                                  8.8G     0  8.8G   0% /proc/scsi\r\n",
      "tmpfs                                                                  8.8G     0  8.8G   0% /sys/firmware\r\n"
     ]
    }
   ],
   "source": [
    "!df\n",
    "!df -h"
   ]
  }
 ],
 "metadata": {
  "kernelspec": {
   "display_name": "Python 3",
   "language": "python",
   "name": "python3"
  },
  "language_info": {
   "codemirror_mode": {
    "name": "ipython",
    "version": 3
   },
   "file_extension": ".py",
   "mimetype": "text/x-python",
   "name": "python",
   "nbconvert_exporter": "python",
   "pygments_lexer": "ipython3",
   "version": "3.7.12"
  },
  "papermill": {
   "default_parameters": {},
   "duration": 21.432581,
   "end_time": "2022-03-30T01:41:30.003233",
   "environment_variables": {},
   "exception": null,
   "input_path": "__notebook__.ipynb",
   "output_path": "__notebook__.ipynb",
   "parameters": {},
   "start_time": "2022-03-30T01:41:08.570652",
   "version": "2.3.3"
  }
 },
 "nbformat": 4,
 "nbformat_minor": 5
}
