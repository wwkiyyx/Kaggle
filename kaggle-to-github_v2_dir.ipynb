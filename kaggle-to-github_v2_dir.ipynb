{
 "cells": [
  {
   "cell_type": "markdown",
   "id": "c6f6ede3",
   "metadata": {
    "papermill": {
     "duration": 0.006449,
     "end_time": "2022-03-30T01:30:43.350234",
     "exception": false,
     "start_time": "2022-03-30T01:30:43.343785",
     "status": "completed"
    },
    "tags": []
   },
   "source": [
    "# 当前目录 working"
   ]
  },
  {
   "cell_type": "code",
   "execution_count": 1,
   "id": "e3032126",
   "metadata": {
    "_cell_guid": "b1076dfc-b9ad-4769-8c92-a6c4dae69d19",
    "_uuid": "8f2839f25d086af736a60e9eeb907d3b93b6e0e5",
    "execution": {
     "iopub.execute_input": "2022-03-30T01:30:43.368619Z",
     "iopub.status.busy": "2022-03-30T01:30:43.367551Z",
     "iopub.status.idle": "2022-03-30T01:30:43.392311Z",
     "shell.execute_reply": "2022-03-30T01:30:43.393362Z",
     "shell.execute_reply.started": "2022-03-30T01:27:38.965685Z"
    },
    "papermill": {
     "duration": 0.034273,
     "end_time": "2022-03-30T01:30:43.393786",
     "exception": false,
     "start_time": "2022-03-30T01:30:43.359513",
     "status": "completed"
    },
    "tags": []
   },
   "outputs": [
    {
     "name": "stdout",
     "output_type": "stream",
     "text": [
      "/kaggle/working\n",
      "__notebook__.ipynb\n"
     ]
    }
   ],
   "source": [
    "%%bash\n",
    "pwd\n",
    "ls"
   ]
  },
  {
   "cell_type": "markdown",
   "id": "405757bb",
   "metadata": {
    "papermill": {
     "duration": 0.005061,
     "end_time": "2022-03-30T01:30:43.404878",
     "exception": false,
     "start_time": "2022-03-30T01:30:43.399817",
     "status": "completed"
    },
    "tags": []
   },
   "source": [
    "# 上一级目录 kaggle    数据集 input"
   ]
  },
  {
   "cell_type": "code",
   "execution_count": 2,
   "id": "cb660dea",
   "metadata": {
    "execution": {
     "iopub.execute_input": "2022-03-30T01:30:43.420868Z",
     "iopub.status.busy": "2022-03-30T01:30:43.418799Z",
     "iopub.status.idle": "2022-03-30T01:30:43.443413Z",
     "shell.execute_reply": "2022-03-30T01:30:43.444489Z",
     "shell.execute_reply.started": "2022-03-30T01:27:27.400718Z"
    },
    "papermill": {
     "duration": 0.034226,
     "end_time": "2022-03-30T01:30:43.444732",
     "exception": false,
     "start_time": "2022-03-30T01:30:43.410506",
     "status": "completed"
    },
    "tags": []
   },
   "outputs": [
    {
     "name": "stdout",
     "output_type": "stream",
     "text": [
      "/kaggle\n",
      "input\n",
      "lib\n",
      "src\n",
      "working\n"
     ]
    }
   ],
   "source": [
    "%%bash\n",
    "cd ..\n",
    "pwd\n",
    "ls"
   ]
  },
  {
   "cell_type": "markdown",
   "id": "f5e885f2",
   "metadata": {
    "papermill": {
     "duration": 0.005987,
     "end_time": "2022-03-30T01:30:43.456795",
     "exception": false,
     "start_time": "2022-03-30T01:30:43.450808",
     "status": "completed"
    },
    "tags": []
   },
   "source": [
    "# 根目录"
   ]
  },
  {
   "cell_type": "code",
   "execution_count": 3,
   "id": "fd938917",
   "metadata": {
    "execution": {
     "iopub.execute_input": "2022-03-30T01:30:43.473157Z",
     "iopub.status.busy": "2022-03-30T01:30:43.472116Z",
     "iopub.status.idle": "2022-03-30T01:30:43.494008Z",
     "shell.execute_reply": "2022-03-30T01:30:43.494730Z",
     "shell.execute_reply.started": "2022-03-30T01:27:57.473143Z"
    },
    "papermill": {
     "duration": 0.032548,
     "end_time": "2022-03-30T01:30:43.494954",
     "exception": false,
     "start_time": "2022-03-30T01:30:43.462406",
     "status": "completed"
    },
    "tags": []
   },
   "outputs": [
    {
     "name": "stdout",
     "output_type": "stream",
     "text": [
      "/\n",
      "bin\n",
      "boot\n",
      "dev\n",
      "entrypoint.sh\n",
      "etc\n",
      "home\n",
      "kaggle\n",
      "lib\n",
      "lib32\n",
      "lib64\n",
      "libx32\n",
      "media\n",
      "mnt\n",
      "opt\n",
      "proc\n",
      "root\n",
      "run\n",
      "run_jupyter.sh\n",
      "sbin\n",
      "src\n",
      "srv\n",
      "sys\n",
      "tmp\n",
      "usr\n",
      "var\n"
     ]
    }
   ],
   "source": [
    "%%bash\n",
    "cd ..\n",
    "cd ..\n",
    "pwd\n",
    "ls"
   ]
  }
 ],
 "metadata": {
  "kernelspec": {
   "display_name": "Python 3",
   "language": "python",
   "name": "python3"
  },
  "language_info": {
   "codemirror_mode": {
    "name": "ipython",
    "version": 3
   },
   "file_extension": ".py",
   "mimetype": "text/x-python",
   "name": "python",
   "nbconvert_exporter": "python",
   "pygments_lexer": "ipython3",
   "version": "3.7.12"
  },
  "papermill": {
   "default_parameters": {},
   "duration": 9.448505,
   "end_time": "2022-03-30T01:30:44.110316",
   "environment_variables": {},
   "exception": null,
   "input_path": "__notebook__.ipynb",
   "output_path": "__notebook__.ipynb",
   "parameters": {},
   "start_time": "2022-03-30T01:30:34.661811",
   "version": "2.3.3"
  }
 },
 "nbformat": 4,
 "nbformat_minor": 5
}
