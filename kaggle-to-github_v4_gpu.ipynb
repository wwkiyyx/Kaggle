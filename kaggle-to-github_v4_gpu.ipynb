{
 "cells": [
  {
   "cell_type": "markdown",
   "id": "fe41a2af",
   "metadata": {
    "papermill": {
     "duration": 0.012919,
     "end_time": "2022-03-30T01:46:07.116138",
     "exception": false,
     "start_time": "2022-03-30T01:46:07.103219",
     "status": "completed"
    },
    "tags": []
   },
   "source": [
    "# 操作系统"
   ]
  },
  {
   "cell_type": "code",
   "execution_count": 1,
   "id": "e26c4214",
   "metadata": {
    "_cell_guid": "b1076dfc-b9ad-4769-8c92-a6c4dae69d19",
    "_uuid": "8f2839f25d086af736a60e9eeb907d3b93b6e0e5",
    "execution": {
     "iopub.execute_input": "2022-03-30T01:46:07.151260Z",
     "iopub.status.busy": "2022-03-30T01:46:07.150446Z",
     "iopub.status.idle": "2022-03-30T01:46:07.833515Z",
     "shell.execute_reply": "2022-03-30T01:46:07.832925Z",
     "shell.execute_reply.started": "2022-03-30T01:31:41.364838Z"
    },
    "papermill": {
     "duration": 0.704156,
     "end_time": "2022-03-30T01:46:07.833665",
     "exception": false,
     "start_time": "2022-03-30T01:46:07.129509",
     "status": "completed"
    },
    "tags": []
   },
   "outputs": [
    {
     "name": "stdout",
     "output_type": "stream",
     "text": [
      "Ubuntu 20.04.3 LTS \\n \\l\r\n",
      "\r\n"
     ]
    }
   ],
   "source": [
    "!cat /etc/issue"
   ]
  },
  {
   "cell_type": "code",
   "execution_count": 2,
   "id": "156e4b9f",
   "metadata": {
    "execution": {
     "iopub.execute_input": "2022-03-30T01:46:07.864482Z",
     "iopub.status.busy": "2022-03-30T01:46:07.863922Z",
     "iopub.status.idle": "2022-03-30T01:46:08.576582Z",
     "shell.execute_reply": "2022-03-30T01:46:08.576128Z",
     "shell.execute_reply.started": "2022-03-30T01:32:16.964208Z"
    },
    "papermill": {
     "duration": 0.730155,
     "end_time": "2022-03-30T01:46:08.576705",
     "exception": false,
     "start_time": "2022-03-30T01:46:07.846550",
     "status": "completed"
    },
    "tags": []
   },
   "outputs": [
    {
     "name": "stdout",
     "output_type": "stream",
     "text": [
      "Linux 311f8a2b1aa0 5.10.90+ #1 SMP Wed Mar 23 09:10:07 UTC 2022 x86_64 x86_64 x86_64 GNU/Linux\r\n"
     ]
    }
   ],
   "source": [
    "!uname -a"
   ]
  },
  {
   "cell_type": "markdown",
   "id": "d5aed63a",
   "metadata": {
    "papermill": {
     "duration": 0.012061,
     "end_time": "2022-03-30T01:46:08.601347",
     "exception": false,
     "start_time": "2022-03-30T01:46:08.589286",
     "status": "completed"
    },
    "tags": []
   },
   "source": [
    "# CPU"
   ]
  },
  {
   "cell_type": "code",
   "execution_count": 3,
   "id": "1a28dba3",
   "metadata": {
    "execution": {
     "iopub.execute_input": "2022-03-30T01:46:08.647162Z",
     "iopub.status.busy": "2022-03-30T01:46:08.646328Z",
     "iopub.status.idle": "2022-03-30T01:46:12.705878Z",
     "shell.execute_reply": "2022-03-30T01:46:12.705361Z",
     "shell.execute_reply.started": "2022-03-30T01:36:17.608841Z"
    },
    "papermill": {
     "duration": 4.091959,
     "end_time": "2022-03-30T01:46:12.706020",
     "exception": false,
     "start_time": "2022-03-30T01:46:08.614061",
     "status": "completed"
    },
    "tags": []
   },
   "outputs": [
    {
     "name": "stdout",
     "output_type": "stream",
     "text": [
      "cpu个数\r\n",
      "1\r\n",
      "cpu核心数\r\n",
      "cpu cores\t: 1\r\n",
      "cpu处理器数\r\n",
      "2\r\n"
     ]
    }
   ],
   "source": [
    "!echo cpu个数\n",
    "!cat /proc/cpuinfo| grep \"physical id\"| sort| uniq| wc -l\n",
    "!echo cpu核心数\n",
    "!cat /proc/cpuinfo| grep \"cpu cores\"| uniq\n",
    "!echo cpu处理器数\n",
    "!cat /proc/cpuinfo| grep \"processor\"| wc -l"
   ]
  },
  {
   "cell_type": "code",
   "execution_count": 4,
   "id": "ac88db1c",
   "metadata": {
    "execution": {
     "iopub.execute_input": "2022-03-30T01:46:12.740269Z",
     "iopub.status.busy": "2022-03-30T01:46:12.739499Z",
     "iopub.status.idle": "2022-03-30T01:46:13.407234Z",
     "shell.execute_reply": "2022-03-30T01:46:13.406361Z",
     "shell.execute_reply.started": "2022-03-30T01:32:59.224961Z"
    },
    "papermill": {
     "duration": 0.686855,
     "end_time": "2022-03-30T01:46:13.407375",
     "exception": false,
     "start_time": "2022-03-30T01:46:12.720520",
     "status": "completed"
    },
    "tags": []
   },
   "outputs": [
    {
     "name": "stdout",
     "output_type": "stream",
     "text": [
      "processor\t: 0\r\n",
      "vendor_id\t: GenuineIntel\r\n",
      "cpu family\t: 6\r\n",
      "model\t\t: 85\r\n",
      "model name\t: Intel(R) Xeon(R) CPU @ 2.00GHz\r\n",
      "stepping\t: 3\r\n",
      "microcode\t: 0x1\r\n",
      "cpu MHz\t\t: 2000.178\r\n",
      "cache size\t: 39424 KB\r\n",
      "physical id\t: 0\r\n",
      "siblings\t: 2\r\n",
      "core id\t\t: 0\r\n",
      "cpu cores\t: 1\r\n",
      "apicid\t\t: 0\r\n",
      "initial apicid\t: 0\r\n",
      "fpu\t\t: yes\r\n",
      "fpu_exception\t: yes\r\n",
      "cpuid level\t: 13\r\n",
      "wp\t\t: yes\r\n",
      "flags\t\t: fpu vme de pse tsc msr pae mce cx8 apic sep mtrr pge mca cmov pat pse36 clflush mmx fxsr sse sse2 ss ht syscall nx pdpe1gb rdtscp lm constant_tsc rep_good nopl xtopology nonstop_tsc cpuid tsc_known_freq pni pclmulqdq ssse3 fma cx16 pcid sse4_1 sse4_2 x2apic movbe popcnt aes xsave avx f16c rdrand hypervisor lahf_lm abm 3dnowprefetch invpcid_single pti ssbd ibrs ibpb stibp fsgsbase tsc_adjust bmi1 hle avx2 smep bmi2 erms invpcid rtm mpx avx512f avx512dq rdseed adx smap clflushopt clwb avx512cd avx512bw avx512vl xsaveopt xsavec xgetbv1 xsaves arat md_clear arch_capabilities\r\n",
      "bugs\t\t: cpu_meltdown spectre_v1 spectre_v2 spec_store_bypass l1tf mds swapgs taa\r\n",
      "bogomips\t: 4000.35\r\n",
      "clflush size\t: 64\r\n",
      "cache_alignment\t: 64\r\n",
      "address sizes\t: 46 bits physical, 48 bits virtual\r\n",
      "power management:\r\n",
      "\r\n",
      "processor\t: 1\r\n",
      "vendor_id\t: GenuineIntel\r\n",
      "cpu family\t: 6\r\n",
      "model\t\t: 85\r\n",
      "model name\t: Intel(R) Xeon(R) CPU @ 2.00GHz\r\n",
      "stepping\t: 3\r\n",
      "microcode\t: 0x1\r\n",
      "cpu MHz\t\t: 2000.178\r\n",
      "cache size\t: 39424 KB\r\n",
      "physical id\t: 0\r\n",
      "siblings\t: 2\r\n",
      "core id\t\t: 0\r\n",
      "cpu cores\t: 1\r\n",
      "apicid\t\t: 1\r\n",
      "initial apicid\t: 1\r\n",
      "fpu\t\t: yes\r\n",
      "fpu_exception\t: yes\r\n",
      "cpuid level\t: 13\r\n",
      "wp\t\t: yes\r\n",
      "flags\t\t: fpu vme de pse tsc msr pae mce cx8 apic sep mtrr pge mca cmov pat pse36 clflush mmx fxsr sse sse2 ss ht syscall nx pdpe1gb rdtscp lm constant_tsc rep_good nopl xtopology nonstop_tsc cpuid tsc_known_freq pni pclmulqdq ssse3 fma cx16 pcid sse4_1 sse4_2 x2apic movbe popcnt aes xsave avx f16c rdrand hypervisor lahf_lm abm 3dnowprefetch invpcid_single pti ssbd ibrs ibpb stibp fsgsbase tsc_adjust bmi1 hle avx2 smep bmi2 erms invpcid rtm mpx avx512f avx512dq rdseed adx smap clflushopt clwb avx512cd avx512bw avx512vl xsaveopt xsavec xgetbv1 xsaves arat md_clear arch_capabilities\r\n",
      "bugs\t\t: cpu_meltdown spectre_v1 spectre_v2 spec_store_bypass l1tf mds swapgs taa\r\n",
      "bogomips\t: 4000.35\r\n",
      "clflush size\t: 64\r\n",
      "cache_alignment\t: 64\r\n",
      "address sizes\t: 46 bits physical, 48 bits virtual\r\n",
      "power management:\r\n",
      "\r\n"
     ]
    }
   ],
   "source": [
    "!cat /proc/cpuinfo"
   ]
  },
  {
   "cell_type": "markdown",
   "id": "712fc667",
   "metadata": {
    "papermill": {
     "duration": 0.014852,
     "end_time": "2022-03-30T01:46:13.437825",
     "exception": false,
     "start_time": "2022-03-30T01:46:13.422973",
     "status": "completed"
    },
    "tags": []
   },
   "source": [
    "# 内存"
   ]
  },
  {
   "cell_type": "code",
   "execution_count": 5,
   "id": "2eedd04a",
   "metadata": {
    "execution": {
     "iopub.execute_input": "2022-03-30T01:46:13.476104Z",
     "iopub.status.busy": "2022-03-30T01:46:13.472493Z",
     "iopub.status.idle": "2022-03-30T01:46:14.818558Z",
     "shell.execute_reply": "2022-03-30T01:46:14.818090Z",
     "shell.execute_reply.started": "2022-03-30T01:37:29.289534Z"
    },
    "papermill": {
     "duration": 1.365405,
     "end_time": "2022-03-30T01:46:14.818685",
     "exception": false,
     "start_time": "2022-03-30T01:46:13.453280",
     "status": "completed"
    },
    "tags": []
   },
   "outputs": [
    {
     "name": "stdout",
     "output_type": "stream",
     "text": [
      "              total        used        free      shared  buff/cache   available\r\n",
      "Mem:       16394012      545208    10983584         920     4865220    15561612\r\n",
      "Swap:             0           0           0\r\n",
      "              total        used        free      shared  buff/cache   available\r\n",
      "Mem:           15Gi       533Mi        10Gi       0.0Ki       4.6Gi        14Gi\r\n",
      "Swap:            0B          0B          0B\r\n"
     ]
    }
   ],
   "source": [
    "!free\n",
    "!free -h"
   ]
  },
  {
   "cell_type": "code",
   "execution_count": 6,
   "id": "f41933a7",
   "metadata": {
    "execution": {
     "iopub.execute_input": "2022-03-30T01:46:14.854707Z",
     "iopub.status.busy": "2022-03-30T01:46:14.853989Z",
     "iopub.status.idle": "2022-03-30T01:46:15.523504Z",
     "shell.execute_reply": "2022-03-30T01:46:15.523043Z",
     "shell.execute_reply.started": "2022-03-30T01:38:17.924148Z"
    },
    "papermill": {
     "duration": 0.689123,
     "end_time": "2022-03-30T01:46:15.523634",
     "exception": false,
     "start_time": "2022-03-30T01:46:14.834511",
     "status": "completed"
    },
    "tags": []
   },
   "outputs": [
    {
     "name": "stdout",
     "output_type": "stream",
     "text": [
      "MemTotal:       16394012 kB\r\n"
     ]
    }
   ],
   "source": [
    "!cat /proc/meminfo | grep MemTotal"
   ]
  },
  {
   "cell_type": "code",
   "execution_count": 7,
   "id": "695f9e98",
   "metadata": {
    "execution": {
     "iopub.execute_input": "2022-03-30T01:46:15.559697Z",
     "iopub.status.busy": "2022-03-30T01:46:15.558973Z",
     "iopub.status.idle": "2022-03-30T01:46:16.219655Z",
     "shell.execute_reply": "2022-03-30T01:46:16.219173Z",
     "shell.execute_reply.started": "2022-03-30T01:38:31.918716Z"
    },
    "papermill": {
     "duration": 0.680468,
     "end_time": "2022-03-30T01:46:16.219825",
     "exception": false,
     "start_time": "2022-03-30T01:46:15.539357",
     "status": "completed"
    },
    "tags": []
   },
   "outputs": [
    {
     "name": "stdout",
     "output_type": "stream",
     "text": [
      "MemTotal:       16394012 kB\r\n",
      "MemFree:        10982244 kB\r\n",
      "MemAvailable:   15560840 kB\r\n",
      "Buffers:          653012 kB\r\n",
      "Cached:          3828444 kB\r\n",
      "SwapCached:            0 kB\r\n",
      "Active:           908532 kB\r\n",
      "Inactive:        3990768 kB\r\n",
      "Active(anon):        664 kB\r\n",
      "Inactive(anon):   366120 kB\r\n",
      "Active(file):     907868 kB\r\n",
      "Inactive(file):  3624648 kB\r\n",
      "Unevictable:           0 kB\r\n",
      "Mlocked:               0 kB\r\n",
      "SwapTotal:             0 kB\r\n",
      "SwapFree:              0 kB\r\n",
      "Dirty:              2244 kB\r\n",
      "Writeback:             0 kB\r\n",
      "AnonPages:        417864 kB\r\n",
      "Mapped:           182824 kB\r\n",
      "Shmem:               916 kB\r\n",
      "KReclaimable:     384196 kB\r\n",
      "Slab:             427808 kB\r\n",
      "SReclaimable:     384196 kB\r\n",
      "SUnreclaim:        43612 kB\r\n",
      "KernelStack:        3120 kB\r\n",
      "PageTables:         3312 kB\r\n",
      "NFS_Unstable:          0 kB\r\n",
      "Bounce:                0 kB\r\n",
      "WritebackTmp:          0 kB\r\n",
      "CommitLimit:     8197004 kB\r\n",
      "Committed_AS:    1735596 kB\r\n",
      "VmallocTotal:   34359738367 kB\r\n",
      "VmallocUsed:       35816 kB\r\n",
      "VmallocChunk:          0 kB\r\n",
      "Percpu:             1224 kB\r\n",
      "HardwareCorrupted:     0 kB\r\n",
      "AnonHugePages:         0 kB\r\n",
      "ShmemHugePages:        0 kB\r\n",
      "ShmemPmdMapped:        0 kB\r\n",
      "FileHugePages:         0 kB\r\n",
      "FilePmdMapped:         0 kB\r\n",
      "CmaTotal:              0 kB\r\n",
      "CmaFree:               0 kB\r\n",
      "HugePages_Total:       0\r\n",
      "HugePages_Free:        0\r\n",
      "HugePages_Rsvd:        0\r\n",
      "HugePages_Surp:        0\r\n",
      "Hugepagesize:       2048 kB\r\n",
      "Hugetlb:               0 kB\r\n",
      "DirectMap4k:      164672 kB\r\n",
      "DirectMap2M:     8220672 kB\r\n",
      "DirectMap1G:    10485760 kB\r\n"
     ]
    }
   ],
   "source": [
    "!cat /proc/meminfo"
   ]
  },
  {
   "cell_type": "markdown",
   "id": "9933a777",
   "metadata": {
    "papermill": {
     "duration": 0.015726,
     "end_time": "2022-03-30T01:46:16.252025",
     "exception": false,
     "start_time": "2022-03-30T01:46:16.236299",
     "status": "completed"
    },
    "tags": []
   },
   "source": [
    "# 硬盘"
   ]
  },
  {
   "cell_type": "code",
   "execution_count": 8,
   "id": "a52ae533",
   "metadata": {
    "execution": {
     "iopub.execute_input": "2022-03-30T01:46:16.290146Z",
     "iopub.status.busy": "2022-03-30T01:46:16.289347Z",
     "iopub.status.idle": "2022-03-30T01:46:17.613159Z",
     "shell.execute_reply": "2022-03-30T01:46:17.612600Z",
     "shell.execute_reply.started": "2022-03-30T01:39:12.218668Z"
    },
    "papermill": {
     "duration": 1.344944,
     "end_time": "2022-03-30T01:46:17.613290",
     "exception": false,
     "start_time": "2022-03-30T01:46:16.268346",
     "status": "completed"
    },
    "tags": []
   },
   "outputs": [
    {
     "name": "stdout",
     "output_type": "stream",
     "text": [
      "Filesystem                                                               1K-blocks        Used   Available Use% Mounted on\r\n",
      "overlay                                                                 4226502568  3453256064   773230120  82% /\r\n",
      "tmpfs                                                                        65536           0       65536   0% /dev\r\n",
      "tmpfs                                                                      8197004           0     8197004   0% /sys/fs/cgroup\r\n",
      "shm                                                                        5767168           0     5767168   0% /dev/shm\r\n",
      "/dev/loop1                                                                20511312       45140    20449788   1% /kaggle/src\r\n",
      "192.168.11.2:/data/kagglesdsdata/datasets/1410488/2336310/ciwta5pk1faf 64424509440 34563172352 29861337088  54% /kaggle/input/wangwenkai40\r\n",
      "/dev/sda1                                                                127769584     3332920   124420280   3% /opt/bin\r\n",
      "/dev/mapper/snap                                                        4226502568  3453256064   773230120  82% /home/jupyter\r\n",
      "tmpfs                                                                      8197004           0     8197004   0% /proc/acpi\r\n",
      "tmpfs                                                                      8197004           0     8197004   0% /proc/scsi\r\n",
      "tmpfs                                                                      8197004           0     8197004   0% /sys/firmware\r\n",
      "Filesystem                                                              Size  Used Avail Use% Mounted on\r\n",
      "overlay                                                                 4.0T  3.3T  738G  82% /\r\n",
      "tmpfs                                                                    64M     0   64M   0% /dev\r\n",
      "tmpfs                                                                   7.9G     0  7.9G   0% /sys/fs/cgroup\r\n",
      "shm                                                                     5.5G     0  5.5G   0% /dev/shm\r\n",
      "/dev/loop1                                                               20G   45M   20G   1% /kaggle/src\r\n",
      "192.168.11.2:/data/kagglesdsdata/datasets/1410488/2336310/ciwta5pk1faf   60T   33T   28T  54% /kaggle/input/wangwenkai40\r\n",
      "/dev/sda1                                                               122G  3.2G  119G   3% /opt/bin\r\n",
      "/dev/mapper/snap                                                        4.0T  3.3T  738G  82% /home/jupyter\r\n",
      "tmpfs                                                                   7.9G     0  7.9G   0% /proc/acpi\r\n",
      "tmpfs                                                                   7.9G     0  7.9G   0% /proc/scsi\r\n",
      "tmpfs                                                                   7.9G     0  7.9G   0% /sys/firmware\r\n"
     ]
    }
   ],
   "source": [
    "!df\n",
    "!df -h"
   ]
  },
  {
   "cell_type": "markdown",
   "id": "261c9cd4",
   "metadata": {
    "papermill": {
     "duration": 0.016376,
     "end_time": "2022-03-30T01:46:17.646467",
     "exception": false,
     "start_time": "2022-03-30T01:46:17.630091",
     "status": "completed"
    },
    "tags": []
   },
   "source": [
    "# GPU"
   ]
  },
  {
   "cell_type": "code",
   "execution_count": 9,
   "id": "31cd4656",
   "metadata": {
    "execution": {
     "iopub.execute_input": "2022-03-30T01:46:17.686877Z",
     "iopub.status.busy": "2022-03-30T01:46:17.686134Z",
     "iopub.status.idle": "2022-03-30T01:46:18.497799Z",
     "shell.execute_reply": "2022-03-30T01:46:18.496927Z",
     "shell.execute_reply.started": "2022-03-30T01:43:38.015370Z"
    },
    "papermill": {
     "duration": 0.834863,
     "end_time": "2022-03-30T01:46:18.497971",
     "exception": false,
     "start_time": "2022-03-30T01:46:17.663108",
     "status": "completed"
    },
    "tags": []
   },
   "outputs": [
    {
     "name": "stdout",
     "output_type": "stream",
     "text": [
      "Wed Mar 30 01:46:18 2022       \r\n",
      "+-----------------------------------------------------------------------------+\r\n",
      "| NVIDIA-SMI 450.119.04   Driver Version: 450.119.04   CUDA Version: 11.0     |\r\n",
      "|-------------------------------+----------------------+----------------------+\r\n",
      "| GPU  Name        Persistence-M| Bus-Id        Disp.A | Volatile Uncorr. ECC |\r\n",
      "| Fan  Temp  Perf  Pwr:Usage/Cap|         Memory-Usage | GPU-Util  Compute M. |\r\n",
      "|                               |                      |               MIG M. |\r\n",
      "|===============================+======================+======================|\r\n",
      "|   0  Tesla P100-PCIE...  Off  | 00000000:00:04.0 Off |                    0 |\r\n",
      "| N/A   36C    P0    29W / 250W |      0MiB / 16280MiB |      0%      Default |\r\n",
      "|                               |                      |                  N/A |\r\n",
      "+-------------------------------+----------------------+----------------------+\r\n",
      "                                                                               \r\n",
      "+-----------------------------------------------------------------------------+\r\n",
      "| Processes:                                                                  |\r\n",
      "|  GPU   GI   CI        PID   Type   Process name                  GPU Memory |\r\n",
      "|        ID   ID                                                   Usage      |\r\n",
      "|=============================================================================|\r\n",
      "|  No running processes found                                                 |\r\n",
      "+-----------------------------------------------------------------------------+\r\n"
     ]
    }
   ],
   "source": [
    "!nvidia-smi"
   ]
  },
  {
   "cell_type": "code",
   "execution_count": 10,
   "id": "3bae0b80",
   "metadata": {
    "execution": {
     "iopub.execute_input": "2022-03-30T01:46:18.562751Z",
     "iopub.status.busy": "2022-03-30T01:46:18.561896Z",
     "iopub.status.idle": "2022-03-30T01:46:19.366111Z",
     "shell.execute_reply": "2022-03-30T01:46:19.365601Z",
     "shell.execute_reply.started": "2022-03-30T01:44:14.881790Z"
    },
    "papermill": {
     "duration": 0.840807,
     "end_time": "2022-03-30T01:46:19.366249",
     "exception": false,
     "start_time": "2022-03-30T01:46:18.525442",
     "status": "completed"
    },
    "tags": []
   },
   "outputs": [
    {
     "name": "stdout",
     "output_type": "stream",
     "text": [
      "nvcc: NVIDIA (R) Cuda compiler driver\r\n",
      "Copyright (c) 2005-2020 NVIDIA Corporation\r\n",
      "Built on Wed_Jul_22_19:09:09_PDT_2020\r\n",
      "Cuda compilation tools, release 11.0, V11.0.221\r\n",
      "Build cuda_11.0_bu.TC445_37.28845127_0\r\n"
     ]
    }
   ],
   "source": [
    "!nvcc -V"
   ]
  }
 ],
 "metadata": {
  "kernelspec": {
   "display_name": "Python 3",
   "language": "python",
   "name": "python3"
  },
  "language_info": {
   "codemirror_mode": {
    "name": "ipython",
    "version": 3
   },
   "file_extension": ".py",
   "mimetype": "text/x-python",
   "name": "python",
   "nbconvert_exporter": "python",
   "pygments_lexer": "ipython3",
   "version": "3.7.12"
  },
  "papermill": {
   "default_parameters": {},
   "duration": 20.963548,
   "end_time": "2022-03-30T01:46:19.994731",
   "environment_variables": {},
   "exception": null,
   "input_path": "__notebook__.ipynb",
   "output_path": "__notebook__.ipynb",
   "parameters": {},
   "start_time": "2022-03-30T01:45:59.031183",
   "version": "2.3.3"
  }
 },
 "nbformat": 4,
 "nbformat_minor": 5
}
